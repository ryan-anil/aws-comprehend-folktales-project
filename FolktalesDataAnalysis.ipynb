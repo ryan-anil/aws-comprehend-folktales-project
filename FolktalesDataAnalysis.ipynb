{
 "cells": [
  {
   "cell_type": "markdown",
   "id": "0d140022",
   "metadata": {},
   "source": [
    "### Folktales NER Results\n",
    "\n",
    "This notebook shows how to visualize some of the results from AWS Comprehend's Detect Entities tool. In this module we use pandas to read and filter the dataframes for each section in order to count how many words per type of tag there is and "
   ]
  },
  {
   "cell_type": "code",
   "execution_count": 18,
   "id": "6ad89969",
   "metadata": {},
   "outputs": [],
   "source": [
    "import boto3\n",
    "import pandas as pd\n",
    "\n",
    "s3 = boto3.client('s3')"
   ]
  },
  {
   "cell_type": "code",
   "execution_count": 35,
   "id": "a90e320b",
   "metadata": {},
   "outputs": [
    {
     "data": {
      "text/plain": [
       "Caliph                   9\n",
       "Allah                    6\n",
       "Jinni                    4\n",
       "Wazir                    4\n",
       "King                     3\n",
       "Commander                2\n",
       "Sultan                   2\n",
       "Dunyazad                 2\n",
       "Sindibad                 2\n",
       "Shahryar                 1\n",
       "Al-Mustazi               1\n",
       "Faithful                 1\n",
       "Parrot                   1\n",
       "Shaykhs                  1\n",
       "Divan                    1\n",
       "Al- Mustansir bi'llah    1\n",
       "the Jann                 1\n",
       "Al-                      1\n",
       "King Yu nan              1\n",
       "Turk                     1\n",
       "Prefect                  1\n",
       "Shahrazad                1\n",
       "the Wazir                1\n",
       "Name: Text, dtype: int64"
      ]
     },
     "execution_count": 35,
     "metadata": {},
     "output_type": "execute_result"
    }
   ],
   "source": [
    "s3.get_object(Bucket = 'folktales-comprehend-ner', Key = 'ner-results-arabian.csv')\n",
    "\n",
    "arabian = pd.read_csv(s3.get_object(Bucket = 'folktales-comprehend-ner', Key = 'ner-results-arabian.csv').get('Body'))\n",
    "\n",
    "arabian = arabian[arabian['Type'] != 'OTHER']\n",
    "\n",
    "arabian.Type.value_counts()\n",
    "\n",
    "arabian[arabian['Type'] == 'PERSON'].Text.value_counts()"
   ]
  },
  {
   "cell_type": "code",
   "execution_count": 36,
   "id": "bcb82420",
   "metadata": {},
   "outputs": [
    {
     "data": {
      "text/plain": [
       "Dschang Liang     16\n",
       "Laotsze           15\n",
       "Dschou Tschu       9\n",
       "Duke               8\n",
       "God                8\n",
       "                  ..\n",
       "Old Child          1\n",
       "the Heavens        1\n",
       "Duke Fairbeard     1\n",
       "Prince             1\n",
       "Si-Men Bau         1\n",
       "Name: Text, Length: 121, dtype: int64"
      ]
     },
     "execution_count": 36,
     "metadata": {},
     "output_type": "execute_result"
    }
   ],
   "source": [
    "s3.get_object(Bucket = 'folktales-comprehend-ner', Key = 'ner-results-chinese.csv')\n",
    "\n",
    "chinese = pd.read_csv(s3.get_object(Bucket = 'folktales-comprehend-ner', Key = 'ner-results-chinese.csv').get('Body'))\n",
    "\n",
    "chinese = chinese[chinese['Type'] != 'OTHER']\n",
    "\n",
    "chinese.Type.value_counts()\n",
    "\n",
    "chinese[chinese['Type'] == 'PERSON'].Text.value_counts()"
   ]
  },
  {
   "cell_type": "code",
   "execution_count": 37,
   "id": "d7419f98",
   "metadata": {},
   "outputs": [
    {
     "data": {
      "text/plain": [
       "Jack              39\n",
       "Cocky-locky       31\n",
       "Henny-penny       27\n",
       "Goosey-poosey     23\n",
       "Ducky-daddles     20\n",
       "Johnny            19\n",
       "Miacca            18\n",
       "Turkey-lurkey     17\n",
       "Foxy-woxy         13\n",
       "Tatty              9\n",
       "Binnorie           8\n",
       "Dame Goody         8\n",
       "Tatty Mouse        7\n",
       "Ducky              7\n",
       "Tommy              7\n",
       "William            6\n",
       "Tommy Grimes       5\n",
       "Sally              4\n",
       "Titty Mouse        4\n",
       "MOUSE              4\n",
       "Jack Hannaford     4\n",
       "Lazy Jack          4\n",
       "Brownie            4\n",
       "Taffy              3\n",
       "Titty              3\n",
       "Johnny-cake        3\n",
       "Beelzebub          3\n",
       "CAT                3\n",
       "Madge Magpie       2\n",
       "Sir                2\n",
       "Turkey             2\n",
       "Henny-Penny        2\n",
       "Hrumph             2\n",
       "lurkey             2\n",
       "Smith              1\n",
       "Mouse              1\n",
       "Lad                1\n",
       "LAZY JACK          1\n",
       "Johnny-            1\n",
       "JACK HANNAFORD     1\n",
       "Hugh               1\n",
       "JOHNNY-CAKE        1\n",
       "MOUSER             1\n",
       "MR. MIACCA         1\n",
       "TITTY MOUSE        1\n",
       "Gooden             1\n",
       "\"Hrumph            1\n",
       "Turkey-            1\n",
       "HENNY-PENNY        1\n",
       "TATTY MOUSE        1\n",
       "O' RUSHES          1\n",
       "JACK               1\n",
       "Name: Text, dtype: int64"
      ]
     },
     "execution_count": 37,
     "metadata": {},
     "output_type": "execute_result"
    }
   ],
   "source": [
    "s3.get_object(Bucket = 'folktales-comprehend-ner', Key = 'ner-results-english.csv')\n",
    "\n",
    "english = pd.read_csv(s3.get_object(Bucket = 'folktales-comprehend-ner', Key = 'ner-results-english.csv').get('Body'))\n",
    "\n",
    "english = english[english['Type'] != 'OTHER']\n",
    "\n",
    "english.Type.value_counts()\n",
    "\n",
    "english[english['Type'] == 'PERSON'].Text.value_counts()"
   ]
  },
  {
   "cell_type": "code",
   "execution_count": 38,
   "id": "6abd21cd",
   "metadata": {},
   "outputs": [
    {
     "data": {
      "text/plain": [
       "Fox              23\n",
       "Sultan           14\n",
       "Gretel           14\n",
       "Lina             12\n",
       "Fundevogel       12\n",
       "Grete             5\n",
       "Cat               5\n",
       "Doctor            4\n",
       "Crabb             4\n",
       "Knowall           4\n",
       "Queen             2\n",
       "Pope              2\n",
       "God               2\n",
       "Sanna             2\n",
       "FUNDEVOGEL        1\n",
       "CLEVER GRETEL     1\n",
       "King              1\n",
       "DOCTOR            1\n",
       "KNOWALL           1\n",
       "SULTAN            1\n",
       "BEE               1\n",
       "Name: Text, dtype: int64"
      ]
     },
     "execution_count": 38,
     "metadata": {},
     "output_type": "execute_result"
    }
   ],
   "source": [
    "s3.get_object(Bucket = 'folktales-comprehend-ner', Key = 'ner-results-german.csv')\n",
    "\n",
    "german = pd.read_csv(s3.get_object(Bucket = 'folktales-comprehend-ner', Key = 'ner-results-german.csv').get('Body'))\n",
    "\n",
    "german = german[german['Type'] != 'OTHER']\n",
    "\n",
    "german.Type.value_counts()\n",
    "\n",
    "german[german['Type'] == 'PERSON'].Text.value_counts()"
   ]
  },
  {
   "cell_type": "code",
   "execution_count": 39,
   "id": "042941c9",
   "metadata": {},
   "outputs": [
    {
     "data": {
      "text/plain": [
       "Lambikin               24\n",
       "Pigeon                 11\n",
       "Drumikin               10\n",
       "Buddha                  6\n",
       "Crow                    6\n",
       "Ram                     4\n",
       "Wind                    4\n",
       "Brahman                 4\n",
       "Sun                     4\n",
       "Jackal                  3\n",
       "Vulture                 3\n",
       "Hullo                   2\n",
       "Eagle                   2\n",
       "Bodisat                 2\n",
       "Brahma-datta            2\n",
       "Somasarman              2\n",
       "Gautama the Buddha      1\n",
       "Bodhisatta              1\n",
       "Devadatta the           1\n",
       "Brahmadatta             1\n",
       "Crows                   1\n",
       "Svabhavak_ri_pa_n_a     1\n",
       "Moon                    1\n",
       "Haridatta               1\n",
       "Star                    1\n",
       "Name: Text, dtype: int64"
      ]
     },
     "execution_count": 39,
     "metadata": {},
     "output_type": "execute_result"
    }
   ],
   "source": [
    "s3.get_object(Bucket = 'folktales-comprehend-ner', Key = 'ner-results-indian.csv')\n",
    "\n",
    "indian = pd.read_csv(s3.get_object(Bucket = 'folktales-comprehend-ner', Key = 'ner-results-indian.csv').get('Body'))\n",
    "\n",
    "indian = indian[indian['Type'] != 'OTHER']\n",
    "\n",
    "indian.Type.value_counts()\n",
    "\n",
    "indian[indian['Type'] == 'PERSON'].Text.value_counts()"
   ]
  },
  {
   "cell_type": "code",
   "execution_count": 40,
   "id": "b6e0fc5a",
   "metadata": {},
   "outputs": [
    {
     "data": {
      "text/plain": [
       "Tsar                 44\n",
       "God                  27\n",
       "Christ               22\n",
       "Svyatogór            19\n",
       "Fílyushka            17\n",
       "                     ..\n",
       "Prince                1\n",
       "Evstáfi—who           1\n",
       "CROW CROWSON          1\n",
       "Evstáfi Tsarévich     1\n",
       "Zubtsov               1\n",
       "Name: Text, Length: 87, dtype: int64"
      ]
     },
     "execution_count": 40,
     "metadata": {},
     "output_type": "execute_result"
    }
   ],
   "source": [
    "s3.get_object(Bucket = 'folktales-comprehend-ner', Key = 'ner-results-russian.csv')\n",
    "\n",
    "russian = pd.read_csv(s3.get_object(Bucket = 'folktales-comprehend-ner', Key = 'ner-results-russian.csv').get('Body'))\n",
    "\n",
    "russian = russian[russian['Type'] != 'OTHER']\n",
    "\n",
    "russian.Type.value_counts()\n",
    "\n",
    "russian[russian['Type'] == 'PERSON'].Text.value_counts()"
   ]
  }
 ],
 "metadata": {
  "kernelspec": {
   "display_name": "conda_mxnet_p36",
   "language": "python",
   "name": "conda_mxnet_p36"
  },
  "language_info": {
   "codemirror_mode": {
    "name": "ipython",
    "version": 3
   },
   "file_extension": ".py",
   "mimetype": "text/x-python",
   "name": "python",
   "nbconvert_exporter": "python",
   "pygments_lexer": "ipython3",
   "version": "3.6.13"
  }
 },
 "nbformat": 4,
 "nbformat_minor": 5
}
