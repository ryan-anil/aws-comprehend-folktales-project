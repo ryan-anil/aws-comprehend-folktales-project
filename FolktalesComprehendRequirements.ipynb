{
 "cells": [
  {
   "cell_type": "markdown",
   "id": "628cb376",
   "metadata": {},
   "source": [
    "### Comprehend Requirements\n",
    "\n",
    "Before being able to use Comprehend services, we need to make sure that the only stories which we input match up with AWS Comprehend's capabilities. The most important factor for whether or not Comprehend can apply its methods to a text is based on bytes. Comprehend requires all input files be less than 5,000 bytes; this is slightly dissapointing as many of the folktales in our corpus are larger than 5,000 bytes, however there are still a significant amount which Comprehend can analyze."
   ]
  },
  {
   "cell_type": "code",
   "execution_count": 23,
   "id": "f86277a8",
   "metadata": {},
   "outputs": [],
   "source": [
    "import boto3\n",
    "\n",
    "s3 = boto3.client('s3')\n",
    "\n",
    "buckets = ['arabian-folktales-transformed', 'chinese-folktales-transformed', 'english-folktales-transformed','german-folktales-transformed', 'indian-folktales-transformed', 'russian-folktales-transformed']"
   ]
  },
  {
   "cell_type": "markdown",
   "id": "9509f0a8",
   "metadata": {},
   "source": [
    "The loop below parses each story and checks whether or not the stored text is less than 5,000 bytes in size. We create new S3 buckets to store the texts which Comprehend can analyze. "
   ]
  },
  {
   "cell_type": "code",
   "execution_count": 22,
   "id": "25b824ea",
   "metadata": {},
   "outputs": [],
   "source": [
    "for currBucket in buckets:\n",
    "    for item in s3.list_objects_v2(Bucket = currBucket).get('Contents'):\n",
    "        corresponding = s3.get_object(Bucket = currBucket, Key = item.get('Key'))\n",
    "        newBucket = currBucket + \"-comprehendable\"\n",
    "        s3.create_bucket(Bucket = newBucket)\n",
    "        if(item.get('Size') < 5000):\n",
    "            copy_source = {\n",
    "                'Bucket': currBucket,\n",
    "                'Key': item.get('Key')\n",
    "            }\n",
    "            s3.copy_object(Bucket = newBucket, CopySource = copy_source, Key = item.get('Key'))"
   ]
  }
 ],
 "metadata": {
  "kernelspec": {
   "display_name": "conda_mxnet_p36",
   "language": "python",
   "name": "conda_mxnet_p36"
  },
  "language_info": {
   "codemirror_mode": {
    "name": "ipython",
    "version": 3
   },
   "file_extension": ".py",
   "mimetype": "text/x-python",
   "name": "python",
   "nbconvert_exporter": "python",
   "pygments_lexer": "ipython3",
   "version": "3.6.13"
  }
 },
 "nbformat": 4,
 "nbformat_minor": 5
}
